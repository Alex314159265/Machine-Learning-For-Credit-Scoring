{
 "cells": [
  {
   "cell_type": "markdown",
   "metadata": {},
   "source": [
    "Machine Learning for Credit Scoring"
   ]
  },
  {
   "cell_type": "code",
   "execution_count": 2,
   "metadata": {},
   "outputs": [],
   "source": [
    "import pandas as pd\n",
    "import numpy as np\n",
    "import random\n",
    "import matplotlib.pyplot as plt"
   ]
  },
  {
   "cell_type": "code",
   "execution_count": 2,
   "metadata": {},
   "outputs": [
    {
     "data": {
      "text/html": [
       "<div>\n",
       "<style scoped>\n",
       "    .dataframe tbody tr th:only-of-type {\n",
       "        vertical-align: middle;\n",
       "    }\n",
       "\n",
       "    .dataframe tbody tr th {\n",
       "        vertical-align: top;\n",
       "    }\n",
       "\n",
       "    .dataframe thead th {\n",
       "        text-align: right;\n",
       "    }\n",
       "</style>\n",
       "<table border=\"1\" class=\"dataframe\">\n",
       "  <thead>\n",
       "    <tr style=\"text-align: right;\">\n",
       "      <th></th>\n",
       "      <th>id</th>\n",
       "      <th>member_id</th>\n",
       "      <th>loan_amnt</th>\n",
       "      <th>funded_amnt</th>\n",
       "      <th>funded_amnt_inv</th>\n",
       "      <th>term</th>\n",
       "      <th>int_rate</th>\n",
       "      <th>installment</th>\n",
       "      <th>grade</th>\n",
       "      <th>sub_grade</th>\n",
       "      <th>...</th>\n",
       "      <th>total_bal_il</th>\n",
       "      <th>il_util</th>\n",
       "      <th>open_rv_12m</th>\n",
       "      <th>open_rv_24m</th>\n",
       "      <th>max_bal_bc</th>\n",
       "      <th>all_util</th>\n",
       "      <th>total_rev_hi_lim</th>\n",
       "      <th>inq_fi</th>\n",
       "      <th>total_cu_tl</th>\n",
       "      <th>inq_last_12m</th>\n",
       "    </tr>\n",
       "  </thead>\n",
       "  <tbody>\n",
       "    <tr>\n",
       "      <th>0</th>\n",
       "      <td>1077501</td>\n",
       "      <td>1296599</td>\n",
       "      <td>5000</td>\n",
       "      <td>5000</td>\n",
       "      <td>4975.0</td>\n",
       "      <td>36 months</td>\n",
       "      <td>10.65</td>\n",
       "      <td>162.87</td>\n",
       "      <td>B</td>\n",
       "      <td>B2</td>\n",
       "      <td>...</td>\n",
       "      <td>NaN</td>\n",
       "      <td>NaN</td>\n",
       "      <td>NaN</td>\n",
       "      <td>NaN</td>\n",
       "      <td>NaN</td>\n",
       "      <td>NaN</td>\n",
       "      <td>NaN</td>\n",
       "      <td>NaN</td>\n",
       "      <td>NaN</td>\n",
       "      <td>NaN</td>\n",
       "    </tr>\n",
       "    <tr>\n",
       "      <th>1</th>\n",
       "      <td>1077430</td>\n",
       "      <td>1314167</td>\n",
       "      <td>2500</td>\n",
       "      <td>2500</td>\n",
       "      <td>2500.0</td>\n",
       "      <td>60 months</td>\n",
       "      <td>15.27</td>\n",
       "      <td>59.83</td>\n",
       "      <td>C</td>\n",
       "      <td>C4</td>\n",
       "      <td>...</td>\n",
       "      <td>NaN</td>\n",
       "      <td>NaN</td>\n",
       "      <td>NaN</td>\n",
       "      <td>NaN</td>\n",
       "      <td>NaN</td>\n",
       "      <td>NaN</td>\n",
       "      <td>NaN</td>\n",
       "      <td>NaN</td>\n",
       "      <td>NaN</td>\n",
       "      <td>NaN</td>\n",
       "    </tr>\n",
       "  </tbody>\n",
       "</table>\n",
       "<p>2 rows × 74 columns</p>\n",
       "</div>"
      ],
      "text/plain": [
       "        id  member_id  loan_amnt  funded_amnt  funded_amnt_inv        term  \\\n",
       "0  1077501    1296599       5000         5000           4975.0   36 months   \n",
       "1  1077430    1314167       2500         2500           2500.0   60 months   \n",
       "\n",
       "   int_rate  installment grade sub_grade  ... total_bal_il il_util  \\\n",
       "0     10.65       162.87     B        B2  ...          NaN     NaN   \n",
       "1     15.27        59.83     C        C4  ...          NaN     NaN   \n",
       "\n",
       "  open_rv_12m  open_rv_24m max_bal_bc all_util total_rev_hi_lim inq_fi  \\\n",
       "0         NaN          NaN        NaN      NaN              NaN    NaN   \n",
       "1         NaN          NaN        NaN      NaN              NaN    NaN   \n",
       "\n",
       "  total_cu_tl inq_last_12m  \n",
       "0         NaN          NaN  \n",
       "1         NaN          NaN  \n",
       "\n",
       "[2 rows x 74 columns]"
      ]
     },
     "execution_count": 2,
     "metadata": {},
     "output_type": "execute_result"
    }
   ],
   "source": [
    "# Read the data :\n",
    "\n",
    "# We take the url to download our Dataset : \n",
    "\n",
    "Data = pd.read_csv(\"Loan_data.csv\", low_memory = False)\n",
    "Data.head(2)"
   ]
  },
  {
   "cell_type": "code",
   "execution_count": 3,
   "metadata": {},
   "outputs": [
    {
     "name": "stdout",
     "output_type": "stream",
     "text": [
      "<class 'pandas.core.frame.DataFrame'>\n",
      "RangeIndex: 466285 entries, 0 to 466284\n",
      "Data columns (total 74 columns):\n",
      " #   Column                       Non-Null Count   Dtype  \n",
      "---  ------                       --------------   -----  \n",
      " 0   id                           466285 non-null  int64  \n",
      " 1   member_id                    466285 non-null  int64  \n",
      " 2   loan_amnt                    466285 non-null  int64  \n",
      " 3   funded_amnt                  466285 non-null  int64  \n",
      " 4   funded_amnt_inv              466285 non-null  float64\n",
      " 5   term                         466285 non-null  object \n",
      " 6   int_rate                     466285 non-null  float64\n",
      " 7   installment                  466285 non-null  float64\n",
      " 8   grade                        466285 non-null  object \n",
      " 9   sub_grade                    466285 non-null  object \n",
      " 10  emp_title                    438697 non-null  object \n",
      " 11  emp_length                   445277 non-null  object \n",
      " 12  home_ownership               466285 non-null  object \n",
      " 13  annual_inc                   466281 non-null  float64\n",
      " 14  verification_status          466285 non-null  object \n",
      " 15  issue_d                      466285 non-null  object \n",
      " 16  loan_status                  466285 non-null  object \n",
      " 17  pymnt_plan                   466285 non-null  object \n",
      " 18  url                          466285 non-null  object \n",
      " 19  desc                         125983 non-null  object \n",
      " 20  purpose                      466285 non-null  object \n",
      " 21  title                        466265 non-null  object \n",
      " 22  zip_code                     466285 non-null  object \n",
      " 23  addr_state                   466285 non-null  object \n",
      " 24  dti                          466285 non-null  float64\n",
      " 25  delinq_2yrs                  466256 non-null  float64\n",
      " 26  earliest_cr_line             466256 non-null  object \n",
      " 27  inq_last_6mths               466256 non-null  float64\n",
      " 28  mths_since_last_delinq       215934 non-null  float64\n",
      " 29  mths_since_last_record       62638 non-null   float64\n",
      " 30  open_acc                     466256 non-null  float64\n",
      " 31  pub_rec                      466256 non-null  float64\n",
      " 32  revol_bal                    466285 non-null  int64  \n",
      " 33  revol_util                   465945 non-null  float64\n",
      " 34  total_acc                    466256 non-null  float64\n",
      " 35  initial_list_status          466285 non-null  object \n",
      " 36  out_prncp                    466285 non-null  float64\n",
      " 37  out_prncp_inv                466285 non-null  float64\n",
      " 38  total_pymnt                  466285 non-null  float64\n",
      " 39  total_pymnt_inv              466285 non-null  float64\n",
      " 40  total_rec_prncp              466285 non-null  float64\n",
      " 41  total_rec_int                466285 non-null  float64\n",
      " 42  total_rec_late_fee           466285 non-null  float64\n",
      " 43  recoveries                   466285 non-null  float64\n",
      " 44  collection_recovery_fee      466285 non-null  float64\n",
      " 45  last_pymnt_d                 465909 non-null  object \n",
      " 46  last_pymnt_amnt              466285 non-null  float64\n",
      " 47  next_pymnt_d                 239071 non-null  object \n",
      " 48  last_credit_pull_d           466243 non-null  object \n",
      " 49  collections_12_mths_ex_med   466140 non-null  float64\n",
      " 50  mths_since_last_major_derog  98974 non-null   float64\n",
      " 51  policy_code                  466285 non-null  int64  \n",
      " 52  application_type             466285 non-null  object \n",
      " 53  annual_inc_joint             0 non-null       float64\n",
      " 54  dti_joint                    0 non-null       float64\n",
      " 55  verification_status_joint    0 non-null       float64\n",
      " 56  acc_now_delinq               466256 non-null  float64\n",
      " 57  tot_coll_amt                 396009 non-null  float64\n",
      " 58  tot_cur_bal                  396009 non-null  float64\n",
      " 59  open_acc_6m                  0 non-null       float64\n",
      " 60  open_il_6m                   0 non-null       float64\n",
      " 61  open_il_12m                  0 non-null       float64\n",
      " 62  open_il_24m                  0 non-null       float64\n",
      " 63  mths_since_rcnt_il           0 non-null       float64\n",
      " 64  total_bal_il                 0 non-null       float64\n",
      " 65  il_util                      0 non-null       float64\n",
      " 66  open_rv_12m                  0 non-null       float64\n",
      " 67  open_rv_24m                  0 non-null       float64\n",
      " 68  max_bal_bc                   0 non-null       float64\n",
      " 69  all_util                     0 non-null       float64\n",
      " 70  total_rev_hi_lim             396009 non-null  float64\n",
      " 71  inq_fi                       0 non-null       float64\n",
      " 72  total_cu_tl                  0 non-null       float64\n",
      " 73  inq_last_12m                 0 non-null       float64\n",
      "dtypes: float64(46), int64(6), object(22)\n",
      "memory usage: 263.3+ MB\n"
     ]
    }
   ],
   "source": [
    "# We need to check how is our dataset :\n",
    "Data.info()"
   ]
  },
  {
   "cell_type": "code",
   "execution_count": 4,
   "metadata": {},
   "outputs": [
    {
     "data": {
      "text/plain": [
       "id                       0\n",
       "member_id                0\n",
       "loan_amnt                0\n",
       "funded_amnt              0\n",
       "funded_amnt_inv          0\n",
       "                     ...  \n",
       "all_util            466285\n",
       "total_rev_hi_lim     70276\n",
       "inq_fi              466285\n",
       "total_cu_tl         466285\n",
       "inq_last_12m        466285\n",
       "Length: 74, dtype: int64"
      ]
     },
     "execution_count": 4,
     "metadata": {},
     "output_type": "execute_result"
    }
   ],
   "source": [
    "# Checking for missing values :\n",
    "Data.isnull().sum()"
   ]
  },
  {
   "cell_type": "code",
   "execution_count": 5,
   "metadata": {},
   "outputs": [
    {
     "name": "stdout",
     "output_type": "stream",
     "text": [
      "<class 'pandas.core.frame.DataFrame'>\n",
      "Int64Index: 437710 entries, 1 to 466283\n",
      "Data columns (total 49 columns):\n",
      " #   Column                      Non-Null Count   Dtype  \n",
      "---  ------                      --------------   -----  \n",
      " 0   id                          437710 non-null  int64  \n",
      " 1   member_id                   437710 non-null  int64  \n",
      " 2   loan_amnt                   437710 non-null  int64  \n",
      " 3   funded_amnt                 437710 non-null  int64  \n",
      " 4   funded_amnt_inv             437710 non-null  float64\n",
      " 5   term                        437710 non-null  object \n",
      " 6   int_rate                    437710 non-null  float64\n",
      " 7   installment                 437710 non-null  float64\n",
      " 8   grade                       437710 non-null  object \n",
      " 9   sub_grade                   437710 non-null  object \n",
      " 10  emp_title                   437710 non-null  object \n",
      " 11  emp_length                  437710 non-null  object \n",
      " 12  home_ownership              437710 non-null  object \n",
      " 13  annual_inc                  437710 non-null  float64\n",
      " 14  verification_status         437710 non-null  object \n",
      " 15  issue_d                     437710 non-null  object \n",
      " 16  loan_status                 437710 non-null  object \n",
      " 17  pymnt_plan                  437710 non-null  object \n",
      " 18  url                         437710 non-null  object \n",
      " 19  purpose                     437710 non-null  object \n",
      " 20  title                       437710 non-null  object \n",
      " 21  zip_code                    437710 non-null  object \n",
      " 22  addr_state                  437710 non-null  object \n",
      " 23  dti                         437710 non-null  float64\n",
      " 24  delinq_2yrs                 437710 non-null  float64\n",
      " 25  earliest_cr_line            437710 non-null  object \n",
      " 26  inq_last_6mths              437710 non-null  float64\n",
      " 27  open_acc                    437710 non-null  float64\n",
      " 28  pub_rec                     437710 non-null  float64\n",
      " 29  revol_bal                   437710 non-null  int64  \n",
      " 30  revol_util                  437710 non-null  float64\n",
      " 31  total_acc                   437710 non-null  float64\n",
      " 32  initial_list_status         437710 non-null  object \n",
      " 33  out_prncp                   437710 non-null  float64\n",
      " 34  out_prncp_inv               437710 non-null  float64\n",
      " 35  total_pymnt                 437710 non-null  float64\n",
      " 36  total_pymnt_inv             437710 non-null  float64\n",
      " 37  total_rec_prncp             437710 non-null  float64\n",
      " 38  total_rec_int               437710 non-null  float64\n",
      " 39  total_rec_late_fee          437710 non-null  float64\n",
      " 40  recoveries                  437710 non-null  float64\n",
      " 41  collection_recovery_fee     437710 non-null  float64\n",
      " 42  last_pymnt_d                437710 non-null  object \n",
      " 43  last_pymnt_amnt             437710 non-null  float64\n",
      " 44  last_credit_pull_d          437710 non-null  object \n",
      " 45  collections_12_mths_ex_med  437710 non-null  float64\n",
      " 46  policy_code                 437710 non-null  int64  \n",
      " 47  application_type            437710 non-null  object \n",
      " 48  acc_now_delinq              437710 non-null  float64\n",
      "dtypes: float64(23), int64(6), object(20)\n",
      "memory usage: 167.0+ MB\n"
     ]
    }
   ],
   "source": [
    "# Dropping the missing values :\n",
    "\n",
    "# We tried to erase rows with missing values but it erases every columns.\n",
    "# Maybe we could decide to remove COLUMNS with missing values instead of rows.\n",
    "# It is 'less professional' but it is also an easy way to remove features as we have too many of them.\n",
    "\n",
    "# We decide to remove columns with more than 10% missing values then remove rows which still have missing values.\n",
    "# It lets us to keep more features.\n",
    "\n",
    "Data.dropna(axis = 1, thresh = Data.shape[0]*0.9, inplace = True) # axis=1 is to remove comlumns instead of rows\n",
    "Data.dropna(axis = 0, inplace = True) # axis0 is to remove rows which contain missing values\n",
    "Data.info()"
   ]
  },
  {
   "cell_type": "code",
   "execution_count": 6,
   "metadata": {},
   "outputs": [
    {
     "name": "stdout",
     "output_type": "stream",
     "text": [
      "<class 'pandas.core.frame.DataFrame'>\n",
      "Int64Index: 437710 entries, 1 to 466283\n",
      "Data columns (total 49 columns):\n",
      " #   Column                      Non-Null Count   Dtype  \n",
      "---  ------                      --------------   -----  \n",
      " 0   id                          437710 non-null  int64  \n",
      " 1   member_id                   437710 non-null  int64  \n",
      " 2   loan_amnt                   437710 non-null  int64  \n",
      " 3   funded_amnt                 437710 non-null  int64  \n",
      " 4   funded_amnt_inv             437710 non-null  float64\n",
      " 5   term                        437710 non-null  object \n",
      " 6   int_rate                    437710 non-null  float64\n",
      " 7   installment                 437710 non-null  float64\n",
      " 8   grade                       437710 non-null  object \n",
      " 9   sub_grade                   437710 non-null  object \n",
      " 10  emp_title                   437710 non-null  object \n",
      " 11  emp_length                  437710 non-null  object \n",
      " 12  home_ownership              437710 non-null  object \n",
      " 13  annual_inc                  437710 non-null  float64\n",
      " 14  verification_status         437710 non-null  object \n",
      " 15  issue_d                     437710 non-null  object \n",
      " 16  loan_status                 437710 non-null  object \n",
      " 17  pymnt_plan                  437710 non-null  object \n",
      " 18  url                         437710 non-null  object \n",
      " 19  purpose                     437710 non-null  object \n",
      " 20  title                       437710 non-null  object \n",
      " 21  zip_code                    437710 non-null  object \n",
      " 22  addr_state                  437710 non-null  object \n",
      " 23  dti                         437710 non-null  float64\n",
      " 24  delinq_2yrs                 437710 non-null  float64\n",
      " 25  earliest_cr_line            437710 non-null  object \n",
      " 26  inq_last_6mths              437710 non-null  float64\n",
      " 27  open_acc                    437710 non-null  float64\n",
      " 28  pub_rec                     437710 non-null  float64\n",
      " 29  revol_bal                   437710 non-null  int64  \n",
      " 30  revol_util                  437710 non-null  float64\n",
      " 31  total_acc                   437710 non-null  float64\n",
      " 32  initial_list_status         437710 non-null  object \n",
      " 33  out_prncp                   437710 non-null  float64\n",
      " 34  out_prncp_inv               437710 non-null  float64\n",
      " 35  total_pymnt                 437710 non-null  float64\n",
      " 36  total_pymnt_inv             437710 non-null  float64\n",
      " 37  total_rec_prncp             437710 non-null  float64\n",
      " 38  total_rec_int               437710 non-null  float64\n",
      " 39  total_rec_late_fee          437710 non-null  float64\n",
      " 40  recoveries                  437710 non-null  float64\n",
      " 41  collection_recovery_fee     437710 non-null  float64\n",
      " 42  last_pymnt_d                437710 non-null  object \n",
      " 43  last_pymnt_amnt             437710 non-null  float64\n",
      " 44  last_credit_pull_d          437710 non-null  object \n",
      " 45  collections_12_mths_ex_med  437710 non-null  float64\n",
      " 46  policy_code                 437710 non-null  int64  \n",
      " 47  application_type            437710 non-null  object \n",
      " 48  acc_now_delinq              437710 non-null  float64\n",
      "dtypes: float64(23), int64(6), object(20)\n",
      "memory usage: 167.0+ MB\n"
     ]
    }
   ],
   "source": [
    "# Checking for missing values again :\n",
    "Data.isnull().sum()\n",
    "Data.info()"
   ]
  },
  {
   "cell_type": "code",
   "execution_count": 7,
   "metadata": {},
   "outputs": [
    {
     "data": {
      "text/plain": [
       "B    0.293774\n",
       "C    0.268865\n",
       "D    0.164465\n",
       "A    0.160718\n",
       "E    0.076649\n",
       "F    0.028402\n",
       "G    0.007126\n",
       "Name: grade, dtype: float64"
      ]
     },
     "execution_count": 7,
     "metadata": {},
     "output_type": "execute_result"
    }
   ],
   "source": [
    "# We compute the base rate to check if our dataset is balanced :\n",
    "Data.grade.value_counts()/Data.shape[0]\n",
    "\n",
    "# We observe a huge difference between the grades so we will have to change that."
   ]
  },
  {
   "cell_type": "code",
   "execution_count": 8,
   "metadata": {},
   "outputs": [
    {
     "data": {
      "text/plain": [
       "B    128588\n",
       "C    117685\n",
       "D     71988\n",
       "A     70348\n",
       "E     33550\n",
       "F     12432\n",
       "G      3119\n",
       "Name: grade, dtype: int64"
      ]
     },
     "execution_count": 8,
     "metadata": {},
     "output_type": "execute_result"
    }
   ],
   "source": [
    "Data.grade.value_counts()\n",
    "\n",
    "# We see that the smaller group has 3119 values. The idea is to delete enough observations in the other groups to have \n",
    "# a balanced dataset."
   ]
  },
  {
   "cell_type": "code",
   "execution_count": 9,
   "metadata": {},
   "outputs": [],
   "source": [
    "# We remove columns which are not useful for our study :\n",
    "\n",
    "Data.drop(columns = ['id', 'member_id', 'sub_grade', 'emp_title', 'loan_status', 'pymnt_plan',\n",
    "                          'zip_code', 'initial_list_status', 'application_type', 'url', 'policy_code'], inplace = True)"
   ]
  },
  {
   "cell_type": "code",
   "execution_count": 10,
   "metadata": {},
   "outputs": [],
   "source": [
    "# We change the way dates are given in the dataset :\n",
    "\n",
    "Data['term'] = Data['term'].str.replace(' months','')\n",
    "Data['term'] = Data['term'].astype(int)"
   ]
  },
  {
   "cell_type": "code",
   "execution_count": 11,
   "metadata": {},
   "outputs": [],
   "source": [
    "def emp_length_converter(df, column):\n",
    "    df[column] = df[column].str.replace('\\+ years', '')\n",
    "    df[column] = df[column].str.replace('< 1 year', str(0))\n",
    "    df[column] = df[column].str.replace(' years', '')\n",
    "    df[column] = df[column].str.replace(' year', '')\n",
    "    df[column] = pd.to_numeric(df[column])"
   ]
  },
  {
   "cell_type": "code",
   "execution_count": 12,
   "metadata": {},
   "outputs": [
    {
     "data": {
      "text/plain": [
       "1          0\n",
       "3         10\n",
       "4          1\n",
       "5          3\n",
       "6          8\n",
       "          ..\n",
       "466279     4\n",
       "466280     4\n",
       "466281    10\n",
       "466282     7\n",
       "466283     3\n",
       "Name: emp_length, Length: 437710, dtype: int64"
      ]
     },
     "execution_count": 12,
     "metadata": {},
     "output_type": "execute_result"
    }
   ],
   "source": [
    "# We change the type and the format of emp_length :\n",
    "\n",
    "emp_length_converter(Data,'emp_length')\n",
    "Data['emp_length']"
   ]
  },
  {
   "cell_type": "code",
   "execution_count": 13,
   "metadata": {},
   "outputs": [],
   "source": [
    "def date_columns(df, column):\n",
    "    # store current month\n",
    "    today_date = pd.to_datetime('2022-04-01')\n",
    "    # convert to datetime format\n",
    "    df[column] = pd.to_datetime(df[column], format = \"%b-%y\")\n",
    "    # calculate the difference in months and add to a new column\n",
    "    df['mths_since_' + column] = round(pd.to_numeric((today_date - df[column]) / np.timedelta64(1, 'M')))\n",
    "    # make any resulting -ve values to be equal to the max date\n",
    "    df['mths_since_' + column] = df['mths_since_' + column].apply(lambda x: df['mths_since_' + column].max() if x < 0 else x)\n",
    "    # drop the original date column\n",
    "    df.drop(columns = [column], inplace = True)"
   ]
  },
  {
   "cell_type": "code",
   "execution_count": 14,
   "metadata": {},
   "outputs": [],
   "source": [
    "date_columns(Data, 'earliest_cr_line')\n",
    "date_columns(Data, 'issue_d')\n",
    "date_columns(Data, 'last_pymnt_d')\n",
    "date_columns(Data, 'last_credit_pull_d')"
   ]
  },
  {
   "cell_type": "code",
   "execution_count": 15,
   "metadata": {},
   "outputs": [
    {
     "data": {
      "text/html": [
       "<div>\n",
       "<style scoped>\n",
       "    .dataframe tbody tr th:only-of-type {\n",
       "        vertical-align: middle;\n",
       "    }\n",
       "\n",
       "    .dataframe tbody tr th {\n",
       "        vertical-align: top;\n",
       "    }\n",
       "\n",
       "    .dataframe thead th {\n",
       "        text-align: right;\n",
       "    }\n",
       "</style>\n",
       "<table border=\"1\" class=\"dataframe\">\n",
       "  <thead>\n",
       "    <tr style=\"text-align: right;\">\n",
       "      <th></th>\n",
       "      <th>mths_since_earliest_cr_line</th>\n",
       "      <th>mths_since_issue_d</th>\n",
       "      <th>mths_since_last_pymnt_d</th>\n",
       "      <th>mths_since_last_credit_pull_d</th>\n",
       "    </tr>\n",
       "  </thead>\n",
       "  <tbody>\n",
       "    <tr>\n",
       "      <th>1</th>\n",
       "      <td>276.0</td>\n",
       "      <td>124.0</td>\n",
       "      <td>108.0</td>\n",
       "      <td>103.0</td>\n",
       "    </tr>\n",
       "    <tr>\n",
       "      <th>3</th>\n",
       "      <td>314.0</td>\n",
       "      <td>124.0</td>\n",
       "      <td>87.0</td>\n",
       "      <td>87.0</td>\n",
       "    </tr>\n",
       "    <tr>\n",
       "      <th>4</th>\n",
       "      <td>315.0</td>\n",
       "      <td>124.0</td>\n",
       "      <td>75.0</td>\n",
       "      <td>75.0</td>\n",
       "    </tr>\n",
       "    <tr>\n",
       "      <th>5</th>\n",
       "      <td>209.0</td>\n",
       "      <td>124.0</td>\n",
       "      <td>87.0</td>\n",
       "      <td>79.0</td>\n",
       "    </tr>\n",
       "    <tr>\n",
       "      <th>6</th>\n",
       "      <td>201.0</td>\n",
       "      <td>124.0</td>\n",
       "      <td>75.0</td>\n",
       "      <td>75.0</td>\n",
       "    </tr>\n",
       "    <tr>\n",
       "      <th>...</th>\n",
       "      <td>...</td>\n",
       "      <td>...</td>\n",
       "      <td>...</td>\n",
       "      <td>...</td>\n",
       "    </tr>\n",
       "    <tr>\n",
       "      <th>466279</th>\n",
       "      <td>272.0</td>\n",
       "      <td>99.0</td>\n",
       "      <td>75.0</td>\n",
       "      <td>75.0</td>\n",
       "    </tr>\n",
       "    <tr>\n",
       "      <th>466280</th>\n",
       "      <td>228.0</td>\n",
       "      <td>99.0</td>\n",
       "      <td>75.0</td>\n",
       "      <td>75.0</td>\n",
       "    </tr>\n",
       "    <tr>\n",
       "      <th>466281</th>\n",
       "      <td>298.0</td>\n",
       "      <td>99.0</td>\n",
       "      <td>88.0</td>\n",
       "      <td>75.0</td>\n",
       "    </tr>\n",
       "    <tr>\n",
       "      <th>466282</th>\n",
       "      <td>244.0</td>\n",
       "      <td>99.0</td>\n",
       "      <td>75.0</td>\n",
       "      <td>76.0</td>\n",
       "    </tr>\n",
       "    <tr>\n",
       "      <th>466283</th>\n",
       "      <td>230.0</td>\n",
       "      <td>99.0</td>\n",
       "      <td>88.0</td>\n",
       "      <td>84.0</td>\n",
       "    </tr>\n",
       "  </tbody>\n",
       "</table>\n",
       "<p>437710 rows × 4 columns</p>\n",
       "</div>"
      ],
      "text/plain": [
       "        mths_since_earliest_cr_line  mths_since_issue_d  \\\n",
       "1                             276.0               124.0   \n",
       "3                             314.0               124.0   \n",
       "4                             315.0               124.0   \n",
       "5                             209.0               124.0   \n",
       "6                             201.0               124.0   \n",
       "...                             ...                 ...   \n",
       "466279                        272.0                99.0   \n",
       "466280                        228.0                99.0   \n",
       "466281                        298.0                99.0   \n",
       "466282                        244.0                99.0   \n",
       "466283                        230.0                99.0   \n",
       "\n",
       "        mths_since_last_pymnt_d  mths_since_last_credit_pull_d  \n",
       "1                         108.0                          103.0  \n",
       "3                          87.0                           87.0  \n",
       "4                          75.0                           75.0  \n",
       "5                          87.0                           79.0  \n",
       "6                          75.0                           75.0  \n",
       "...                         ...                            ...  \n",
       "466279                     75.0                           75.0  \n",
       "466280                     75.0                           75.0  \n",
       "466281                     88.0                           75.0  \n",
       "466282                     75.0                           76.0  \n",
       "466283                     88.0                           84.0  \n",
       "\n",
       "[437710 rows x 4 columns]"
      ]
     },
     "execution_count": 15,
     "metadata": {},
     "output_type": "execute_result"
    }
   ],
   "source": [
    "# Verification of the modified dates in the dataset :\n",
    "\n",
    "Data[['mths_since_earliest_cr_line', 'mths_since_issue_d', 'mths_since_last_pymnt_d', 'mths_since_last_credit_pull_d']]"
   ]
  },
  {
   "cell_type": "code",
   "execution_count": 16,
   "metadata": {},
   "outputs": [],
   "source": [
    "# The smaller group has 3119 observations and we want to remove enough rows in other groups to have the same number in each\n",
    "# group\n",
    "\n",
    "# We define NbA, NbB, NbC, NbD, NbE, NbF and NbG the numbers of rows in each group for the moment :\n",
    "\n",
    "NbA = 70348\n",
    "NbB = 128588\n",
    "NbC = 117685\n",
    "NbD = 71988\n",
    "NbE = 33550\n",
    "NbF = 12432\n",
    "NbG = 3119\n",
    "\n",
    "ListNbRows = [NbA, NbB, NbC, NbD, NbE, NbF]\n",
    "\n",
    "# We define ListNbRowsToDelete the list of the numbers of rows we need to delete for each group :\n",
    "\n",
    "ListNbRowsToDelete = []\n",
    "for i in ListNbRows:\n",
    "    ListNbRowsToDelete.append(i - NbG)"
   ]
  },
  {
   "cell_type": "code",
   "execution_count": 17,
   "metadata": {},
   "outputs": [],
   "source": [
    "# We divide our dataset in different groups, one for each grade. Then we could delete the number of rows we want for each group.\n",
    "\n",
    "groups = Data.groupby(Data.grade)\n",
    "\n",
    "Data_A = groups.get_group('A')\n",
    "Data_B = groups.get_group('B')\n",
    "Data_C = groups.get_group('C')\n",
    "Data_D = groups.get_group('D')\n",
    "Data_E = groups.get_group('E')\n",
    "Data_F = groups.get_group('F')\n",
    "Data_G = groups.get_group('G')\n",
    "\n",
    "# To make it easier for after we put them in a list :\n",
    "\n",
    "listGroup = [Data_A, Data_B, Data_C, Data_D, Data_E, Data_F]"
   ]
  },
  {
   "cell_type": "code",
   "execution_count": 18,
   "metadata": {},
   "outputs": [],
   "source": [
    "# We randomly remove the overpart of each group :"
   ]
  },
  {
   "cell_type": "code",
   "execution_count": 19,
   "metadata": {},
   "outputs": [],
   "source": [
    "# Firt we try to remove rows one by one, it is the best way to be random :\n",
    "\n",
    "#for i in range(6):\n",
    "#    while  ListNbRowsToDelete[i] > 0:\n",
    "#        n = random.randrange(0, len(listGroup[i].index))\n",
    "#        listGroup[i] = listGroup[i].drop([listGroup[i].index[n]])\n",
    "#        ListNbRowsToDelete[i] = ListNbRowsToDelete[i] - 1\n",
    "        \n",
    "# Unfortunately this code is very long to run (approximately 3h)"
   ]
  },
  {
   "cell_type": "code",
   "execution_count": 20,
   "metadata": {},
   "outputs": [],
   "source": [
    "# We try to remove rows ten by ten to obtain a quicker result and it works, it is around 15 min to run!\n",
    "# It is almost the same code as before :\n",
    "\n",
    "for i in range(6):\n",
    "    while  ListNbRowsToDelete[i] > 0:\n",
    "        n = random.randrange(0, len(listGroup[i].index)-9)\n",
    "        listGroup[i] = listGroup[i].drop([listGroup[i].index[n], listGroup[i].index[n+1], listGroup[i].index[n+2],\n",
    "                                         listGroup[i].index[n+3], listGroup[i].index[n+4], listGroup[i].index[n+5],\n",
    "                                         listGroup[i].index[n+6], listGroup[i].index[n+7], listGroup[i].index[n+8],\n",
    "                                         listGroup[i].index[n+9]])\n",
    "        ListNbRowsToDelete[i] = ListNbRowsToDelete[i] - 10\n",
    "        \n",
    "# It took 14 min to run\n",
    "# Attention it does not change Data_A, Data_B etc. It modifies only the list listGroup!"
   ]
  },
  {
   "cell_type": "code",
   "execution_count": 21,
   "metadata": {},
   "outputs": [
    {
     "data": {
      "text/plain": [
       "(21810, 38)"
      ]
     },
     "execution_count": 21,
     "metadata": {},
     "output_type": "execute_result"
    }
   ],
   "source": [
    "# Now we can concatenate the new DataFrame : \n",
    "\n",
    "DataNew = pd.concat(listGroup + [Data_G])\n",
    "\n",
    "DataNew.shape"
   ]
  },
  {
   "cell_type": "code",
   "execution_count": 22,
   "metadata": {},
   "outputs": [
    {
     "name": "stdout",
     "output_type": "stream",
     "text": [
      "[-1, -1, -4, -1, -9, -7]\n"
     ]
    }
   ],
   "source": [
    "# As we delete 10 by 10, we do not delete the exact number of rows for each grade\n",
    "# It is not important but it is to explain why each grade do not have the same rate\n",
    "print(ListNbRowsToDelete)"
   ]
  },
  {
   "cell_type": "code",
   "execution_count": 24,
   "metadata": {},
   "outputs": [
    {
     "data": {
      "text/plain": [
       "G    0.143008\n",
       "A    0.142962\n",
       "B    0.142962\n",
       "D    0.142962\n",
       "C    0.142824\n",
       "F    0.142687\n",
       "E    0.142595\n",
       "Name: grade, dtype: float64"
      ]
     },
     "execution_count": 24,
     "metadata": {},
     "output_type": "execute_result"
    }
   ],
   "source": [
    "DataNew.grade.value_counts()/DataNew.shape[0]"
   ]
  },
  {
   "cell_type": "code",
   "execution_count": 25,
   "metadata": {},
   "outputs": [],
   "source": [
    "# In order to work quicker we save the clean dataframe to csv\n",
    "# We don't have to run the code to clean before each session, we just need to import the following dataframe :\n",
    "# DataNew.to_csv(\"cleanData.csv\")"
   ]
  },
  {
   "cell_type": "code",
   "execution_count": 38,
   "metadata": {},
   "outputs": [
    {
     "data": {
      "text/html": [
       "<div>\n",
       "<style scoped>\n",
       "    .dataframe tbody tr th:only-of-type {\n",
       "        vertical-align: middle;\n",
       "    }\n",
       "\n",
       "    .dataframe tbody tr th {\n",
       "        vertical-align: top;\n",
       "    }\n",
       "\n",
       "    .dataframe thead th {\n",
       "        text-align: right;\n",
       "    }\n",
       "</style>\n",
       "<table border=\"1\" class=\"dataframe\">\n",
       "  <thead>\n",
       "    <tr style=\"text-align: right;\">\n",
       "      <th></th>\n",
       "      <th>Unnamed: 0</th>\n",
       "      <th>loan_amnt</th>\n",
       "      <th>funded_amnt</th>\n",
       "      <th>funded_amnt_inv</th>\n",
       "      <th>term</th>\n",
       "      <th>int_rate</th>\n",
       "      <th>installment</th>\n",
       "      <th>grade</th>\n",
       "      <th>emp_length</th>\n",
       "      <th>home_ownership</th>\n",
       "      <th>...</th>\n",
       "      <th>total_rec_late_fee</th>\n",
       "      <th>recoveries</th>\n",
       "      <th>collection_recovery_fee</th>\n",
       "      <th>last_pymnt_amnt</th>\n",
       "      <th>collections_12_mths_ex_med</th>\n",
       "      <th>acc_now_delinq</th>\n",
       "      <th>mths_since_earliest_cr_line</th>\n",
       "      <th>mths_since_issue_d</th>\n",
       "      <th>mths_since_last_pymnt_d</th>\n",
       "      <th>mths_since_last_credit_pull_d</th>\n",
       "    </tr>\n",
       "  </thead>\n",
       "  <tbody>\n",
       "    <tr>\n",
       "      <th>0</th>\n",
       "      <td>1158</td>\n",
       "      <td>12000</td>\n",
       "      <td>12000</td>\n",
       "      <td>12000.0</td>\n",
       "      <td>36</td>\n",
       "      <td>7.51</td>\n",
       "      <td>373.33</td>\n",
       "      <td>A</td>\n",
       "      <td>7</td>\n",
       "      <td>RENT</td>\n",
       "      <td>...</td>\n",
       "      <td>0.0</td>\n",
       "      <td>0.0</td>\n",
       "      <td>0.0</td>\n",
       "      <td>390.85</td>\n",
       "      <td>0.0</td>\n",
       "      <td>0.0</td>\n",
       "      <td>283.0</td>\n",
       "      <td>124.0</td>\n",
       "      <td>88.0</td>\n",
       "      <td>88.0</td>\n",
       "    </tr>\n",
       "    <tr>\n",
       "      <th>1</th>\n",
       "      <td>1161</td>\n",
       "      <td>25850</td>\n",
       "      <td>25850</td>\n",
       "      <td>25850.0</td>\n",
       "      <td>36</td>\n",
       "      <td>7.90</td>\n",
       "      <td>808.86</td>\n",
       "      <td>A</td>\n",
       "      <td>10</td>\n",
       "      <td>MORTGAGE</td>\n",
       "      <td>...</td>\n",
       "      <td>0.0</td>\n",
       "      <td>0.0</td>\n",
       "      <td>0.0</td>\n",
       "      <td>815.94</td>\n",
       "      <td>0.0</td>\n",
       "      <td>0.0</td>\n",
       "      <td>280.0</td>\n",
       "      <td>124.0</td>\n",
       "      <td>88.0</td>\n",
       "      <td>88.0</td>\n",
       "    </tr>\n",
       "    <tr>\n",
       "      <th>2</th>\n",
       "      <td>1165</td>\n",
       "      <td>8000</td>\n",
       "      <td>8000</td>\n",
       "      <td>8000.0</td>\n",
       "      <td>36</td>\n",
       "      <td>7.51</td>\n",
       "      <td>248.89</td>\n",
       "      <td>A</td>\n",
       "      <td>0</td>\n",
       "      <td>RENT</td>\n",
       "      <td>...</td>\n",
       "      <td>0.0</td>\n",
       "      <td>0.0</td>\n",
       "      <td>0.0</td>\n",
       "      <td>264.26</td>\n",
       "      <td>0.0</td>\n",
       "      <td>0.0</td>\n",
       "      <td>210.0</td>\n",
       "      <td>124.0</td>\n",
       "      <td>88.0</td>\n",
       "      <td>78.0</td>\n",
       "    </tr>\n",
       "    <tr>\n",
       "      <th>3</th>\n",
       "      <td>1169</td>\n",
       "      <td>4000</td>\n",
       "      <td>4000</td>\n",
       "      <td>4000.0</td>\n",
       "      <td>36</td>\n",
       "      <td>7.90</td>\n",
       "      <td>125.17</td>\n",
       "      <td>A</td>\n",
       "      <td>5</td>\n",
       "      <td>RENT</td>\n",
       "      <td>...</td>\n",
       "      <td>0.0</td>\n",
       "      <td>0.0</td>\n",
       "      <td>0.0</td>\n",
       "      <td>1566.18</td>\n",
       "      <td>0.0</td>\n",
       "      <td>0.0</td>\n",
       "      <td>266.0</td>\n",
       "      <td>124.0</td>\n",
       "      <td>100.0</td>\n",
       "      <td>77.0</td>\n",
       "    </tr>\n",
       "    <tr>\n",
       "      <th>4</th>\n",
       "      <td>1171</td>\n",
       "      <td>14000</td>\n",
       "      <td>14000</td>\n",
       "      <td>14000.0</td>\n",
       "      <td>60</td>\n",
       "      <td>8.90</td>\n",
       "      <td>289.94</td>\n",
       "      <td>A</td>\n",
       "      <td>1</td>\n",
       "      <td>RENT</td>\n",
       "      <td>...</td>\n",
       "      <td>0.0</td>\n",
       "      <td>0.0</td>\n",
       "      <td>0.0</td>\n",
       "      <td>289.94</td>\n",
       "      <td>0.0</td>\n",
       "      <td>0.0</td>\n",
       "      <td>273.0</td>\n",
       "      <td>124.0</td>\n",
       "      <td>75.0</td>\n",
       "      <td>75.0</td>\n",
       "    </tr>\n",
       "  </tbody>\n",
       "</table>\n",
       "<p>5 rows × 39 columns</p>\n",
       "</div>"
      ],
      "text/plain": [
       "   Unnamed: 0  loan_amnt  funded_amnt  funded_amnt_inv  term  int_rate  \\\n",
       "0        1158      12000        12000          12000.0    36      7.51   \n",
       "1        1161      25850        25850          25850.0    36      7.90   \n",
       "2        1165       8000         8000           8000.0    36      7.51   \n",
       "3        1169       4000         4000           4000.0    36      7.90   \n",
       "4        1171      14000        14000          14000.0    60      8.90   \n",
       "\n",
       "   installment grade  emp_length home_ownership  ...  total_rec_late_fee  \\\n",
       "0       373.33     A           7           RENT  ...                 0.0   \n",
       "1       808.86     A          10       MORTGAGE  ...                 0.0   \n",
       "2       248.89     A           0           RENT  ...                 0.0   \n",
       "3       125.17     A           5           RENT  ...                 0.0   \n",
       "4       289.94     A           1           RENT  ...                 0.0   \n",
       "\n",
       "  recoveries collection_recovery_fee last_pymnt_amnt  \\\n",
       "0        0.0                     0.0          390.85   \n",
       "1        0.0                     0.0          815.94   \n",
       "2        0.0                     0.0          264.26   \n",
       "3        0.0                     0.0         1566.18   \n",
       "4        0.0                     0.0          289.94   \n",
       "\n",
       "  collections_12_mths_ex_med  acc_now_delinq  mths_since_earliest_cr_line  \\\n",
       "0                        0.0             0.0                        283.0   \n",
       "1                        0.0             0.0                        280.0   \n",
       "2                        0.0             0.0                        210.0   \n",
       "3                        0.0             0.0                        266.0   \n",
       "4                        0.0             0.0                        273.0   \n",
       "\n",
       "   mths_since_issue_d  mths_since_last_pymnt_d  mths_since_last_credit_pull_d  \n",
       "0               124.0                     88.0                           88.0  \n",
       "1               124.0                     88.0                           88.0  \n",
       "2               124.0                     88.0                           78.0  \n",
       "3               124.0                    100.0                           77.0  \n",
       "4               124.0                     75.0                           75.0  \n",
       "\n",
       "[5 rows x 39 columns]"
      ]
     },
     "execution_count": 38,
     "metadata": {},
     "output_type": "execute_result"
    }
   ],
   "source": [
    "# To continue we just open the dataset we saved before :\n",
    "\n",
    "DataNew = pd.read_csv(\"cleanData.csv\", low_memory=False)\n",
    "DataNew.head()"
   ]
  },
  {
   "cell_type": "code",
   "execution_count": 39,
   "metadata": {},
   "outputs": [],
   "source": [
    "# When we open again the cleaned dataset, we have a new column \"Unnamed\" with the old indexes.\n",
    "# We delete it :\n",
    "\n",
    "DataNew = pd.read_csv(\"cleanData.csv\", low_memory = False)\n",
    "DataNew.drop(columns = ['Unnamed: 0'], inplace = True)"
   ]
  },
  {
   "cell_type": "code",
   "execution_count": 40,
   "metadata": {},
   "outputs": [],
   "source": [
    "# We divide our dataset in two parts, one for our target variable and the other one for the other ones :\n",
    "\n",
    "from sklearn.model_selection import train_test_split\n",
    "X = DataNew.drop('grade', axis = 1)\n",
    "y = DataNew['grade']\n",
    "X_train, X_test, y_train, y_test = train_test_split(X, y, test_size = 0.2, random_state = 42, stratify = y)"
   ]
  },
  {
   "cell_type": "code",
   "execution_count": 41,
   "metadata": {},
   "outputs": [],
   "source": [
    "# We divide our training data into categorical and numerical subsets :\n",
    "\n",
    "X_train_cat = X_train.select_dtypes(include = 'object').copy()\n",
    "X_train_num = X_train.select_dtypes(include = 'number').copy()"
   ]
  },
  {
   "cell_type": "code",
   "execution_count": 42,
   "metadata": {},
   "outputs": [
    {
     "name": "stdout",
     "output_type": "stream",
     "text": [
      "<class 'pandas.core.frame.DataFrame'>\n",
      "RangeIndex: 21810 entries, 0 to 21809\n",
      "Data columns (total 38 columns):\n",
      " #   Column                         Non-Null Count  Dtype  \n",
      "---  ------                         --------------  -----  \n",
      " 0   loan_amnt                      21810 non-null  int64  \n",
      " 1   funded_amnt                    21810 non-null  int64  \n",
      " 2   funded_amnt_inv                21810 non-null  float64\n",
      " 3   term                           21810 non-null  int64  \n",
      " 4   int_rate                       21810 non-null  float64\n",
      " 5   installment                    21810 non-null  float64\n",
      " 6   grade                          21810 non-null  object \n",
      " 7   emp_length                     21810 non-null  int64  \n",
      " 8   home_ownership                 21810 non-null  object \n",
      " 9   annual_inc                     21810 non-null  float64\n",
      " 10  verification_status            21810 non-null  object \n",
      " 11  purpose                        21810 non-null  object \n",
      " 12  title                          21810 non-null  object \n",
      " 13  addr_state                     21810 non-null  object \n",
      " 14  dti                            21810 non-null  float64\n",
      " 15  delinq_2yrs                    21810 non-null  float64\n",
      " 16  inq_last_6mths                 21810 non-null  float64\n",
      " 17  open_acc                       21810 non-null  float64\n",
      " 18  pub_rec                        21810 non-null  float64\n",
      " 19  revol_bal                      21810 non-null  int64  \n",
      " 20  revol_util                     21810 non-null  float64\n",
      " 21  total_acc                      21810 non-null  float64\n",
      " 22  out_prncp                      21810 non-null  float64\n",
      " 23  out_prncp_inv                  21810 non-null  float64\n",
      " 24  total_pymnt                    21810 non-null  float64\n",
      " 25  total_pymnt_inv                21810 non-null  float64\n",
      " 26  total_rec_prncp                21810 non-null  float64\n",
      " 27  total_rec_int                  21810 non-null  float64\n",
      " 28  total_rec_late_fee             21810 non-null  float64\n",
      " 29  recoveries                     21810 non-null  float64\n",
      " 30  collection_recovery_fee        21810 non-null  float64\n",
      " 31  last_pymnt_amnt                21810 non-null  float64\n",
      " 32  collections_12_mths_ex_med     21810 non-null  float64\n",
      " 33  acc_now_delinq                 21810 non-null  float64\n",
      " 34  mths_since_earliest_cr_line    21810 non-null  float64\n",
      " 35  mths_since_issue_d             21810 non-null  float64\n",
      " 36  mths_since_last_pymnt_d        21810 non-null  float64\n",
      " 37  mths_since_last_credit_pull_d  21810 non-null  float64\n",
      "dtypes: float64(27), int64(5), object(6)\n",
      "memory usage: 6.3+ MB\n"
     ]
    }
   ],
   "source": [
    "# X_train_num\n",
    "DataNew.info()"
   ]
  },
  {
   "cell_type": "code",
   "execution_count": 43,
   "metadata": {},
   "outputs": [],
   "source": [
    "# Define an empty dictionary to store chi-squared test results :\n",
    "chi2_check = {}"
   ]
  },
  {
   "cell_type": "code",
   "execution_count": 44,
   "metadata": {},
   "outputs": [],
   "source": [
    "from scipy.stats import chi2_contingency\n",
    "# We loop over each column in the training set to compute chi-statistic with the target variable\n",
    "for column in X_train_cat:\n",
    "    chi, p, dof, ex = chi2_contingency(pd.crosstab(y_train, X_train_cat[column]))\n",
    "    chi2_check.setdefault('Feature',[]).append(column)\n",
    "    chi2_check.setdefault('p-value',[]).append(round(p, 10))"
   ]
  },
  {
   "cell_type": "code",
   "execution_count": 45,
   "metadata": {},
   "outputs": [
    {
     "data": {
      "text/html": [
       "<div>\n",
       "<style scoped>\n",
       "    .dataframe tbody tr th:only-of-type {\n",
       "        vertical-align: middle;\n",
       "    }\n",
       "\n",
       "    .dataframe tbody tr th {\n",
       "        vertical-align: top;\n",
       "    }\n",
       "\n",
       "    .dataframe thead th {\n",
       "        text-align: right;\n",
       "    }\n",
       "</style>\n",
       "<table border=\"1\" class=\"dataframe\">\n",
       "  <thead>\n",
       "    <tr style=\"text-align: right;\">\n",
       "      <th></th>\n",
       "      <th>Feature</th>\n",
       "      <th>p-value</th>\n",
       "    </tr>\n",
       "  </thead>\n",
       "  <tbody>\n",
       "    <tr>\n",
       "      <th>0</th>\n",
       "      <td>home_ownership</td>\n",
       "      <td>0.0000</td>\n",
       "    </tr>\n",
       "    <tr>\n",
       "      <th>1</th>\n",
       "      <td>verification_status</td>\n",
       "      <td>0.0000</td>\n",
       "    </tr>\n",
       "    <tr>\n",
       "      <th>2</th>\n",
       "      <td>purpose</td>\n",
       "      <td>0.0000</td>\n",
       "    </tr>\n",
       "    <tr>\n",
       "      <th>3</th>\n",
       "      <td>title</td>\n",
       "      <td>0.0000</td>\n",
       "    </tr>\n",
       "    <tr>\n",
       "      <th>4</th>\n",
       "      <td>addr_state</td>\n",
       "      <td>0.0827</td>\n",
       "    </tr>\n",
       "  </tbody>\n",
       "</table>\n",
       "</div>"
      ],
      "text/plain": [
       "               Feature  p-value\n",
       "0       home_ownership   0.0000\n",
       "1  verification_status   0.0000\n",
       "2              purpose   0.0000\n",
       "3                title   0.0000\n",
       "4           addr_state   0.0827"
      ]
     },
     "execution_count": 45,
     "metadata": {},
     "output_type": "execute_result"
    }
   ],
   "source": [
    "# convert the dictionary to a DF\n",
    "chi2_result = pd.DataFrame(data = chi2_check)\n",
    "chi2_result.sort_values(by = ['p-value'], ascending = True, ignore_index = True, inplace = True)\n",
    "chi2_result"
   ]
  },
  {
   "cell_type": "code",
   "execution_count": 46,
   "metadata": {},
   "outputs": [
    {
     "data": {
      "text/plain": [
       "<matplotlib.axes._subplots.AxesSubplot at 0x25afa374d60>"
      ]
     },
     "execution_count": 46,
     "metadata": {},
     "output_type": "execute_result"
    },
    {
     "data": {
      "image/png": "[encoded data removed]",
      "text/plain": [
       "<Figure size 720x720 with 2 Axes>"
      ]
     },
     "metadata": {
      "needs_background": "light"
     },
     "output_type": "display_data"
    }
   ],
   "source": [
    "import seaborn as sns\n",
    "import matplotlib.pyplot as plt\n",
    "# calculate pair-wise correlations between them\n",
    "corrmat = X_train_num.corr()\n",
    "plt.figure(figsize=(10,10))\n",
    "sns.heatmap(corrmat, cmap=\"Blues\")"
   ]
  },
  {
   "cell_type": "code",
   "execution_count": 47,
   "metadata": {},
   "outputs": [],
   "source": [
    "# We delete all the features whose correlations are greater than 0.7 in absolute value : \n",
    "\n",
    "corrmat[abs(corrmat) > 0.7]\n",
    "DataNew.drop(columns = ['funded_amnt', \n",
    "                        'funded_amnt_inv', \n",
    "                        'installment', \n",
    "                        'total_pymnt_inv', \n",
    "                        'collection_recovery_fee', \n",
    "                        'mths_since_last_pymnt_d', \n",
    "                        'out_prncp_inv', \n",
    "                        'total_rec_prncp'], \n",
    "             inplace = True)"
   ]
  },
  {
   "cell_type": "code",
   "execution_count": 48,
   "metadata": {},
   "outputs": [
    {
     "name": "stderr",
     "output_type": "stream",
     "text": [
      "<ipython-input-48-76d8ec587ec8>:5: SettingWithCopyWarning: \n",
      "A value is trying to be set on a copy of a slice from a DataFrame.\n",
      "Try using .loc[row_indexer,col_indexer] = value instead\n",
      "\n",
      "See the caveats in the documentation: https://pandas.pydata.org/pandas-docs/stable/user_guide/indexing.html#returning-a-view-versus-a-copy\n",
      "  X_train[X_train.columns[j]] = pd.factorize(X_train[X_train.columns[j]])[0].tolist()\n",
      "<ipython-input-48-76d8ec587ec8>:6: SettingWithCopyWarning: \n",
      "A value is trying to be set on a copy of a slice from a DataFrame.\n",
      "Try using .loc[row_indexer,col_indexer] = value instead\n",
      "\n",
      "See the caveats in the documentation: https://pandas.pydata.org/pandas-docs/stable/user_guide/indexing.html#returning-a-view-versus-a-copy\n",
      "  X_test[X_test.columns[j]] = pd.factorize(X_test[X_test.columns[j]])[0].tolist()\n"
     ]
    }
   ],
   "source": [
    "# We factorize categorical features :\n",
    "\n",
    "for j in range(len(X_train.columns)):\n",
    "    if(X_train.dtypes[j] == 'object'):\n",
    "        X_train[X_train.columns[j]] = pd.factorize(X_train[X_train.columns[j]])[0].tolist()\n",
    "        X_test[X_test.columns[j]] = pd.factorize(X_test[X_test.columns[j]])[0].tolist()\n"
   ]
  },
  {
   "cell_type": "code",
   "execution_count": 49,
   "metadata": {},
   "outputs": [],
   "source": [
    "def mean_norm(df_input):\n",
    "    return df_input.apply(lambda x: (x-x.mean())/ x.std(), axis=0)"
   ]
  },
  {
   "cell_type": "code",
   "execution_count": 50,
   "metadata": {},
   "outputs": [
    {
     "name": "stderr",
     "output_type": "stream",
     "text": [
      "C:\\Users\\albon\\anaconda3\\lib\\site-packages\\pandas\\core\\frame.py:2963: SettingWithCopyWarning: \n",
      "A value is trying to be set on a copy of a slice from a DataFrame.\n",
      "Try using .loc[row_indexer,col_indexer] = value instead\n",
      "\n",
      "See the caveats in the documentation: https://pandas.pydata.org/pandas-docs/stable/user_guide/indexing.html#returning-a-view-versus-a-copy\n",
      "  self[k1] = value[k2]\n"
     ]
    }
   ],
   "source": [
    "# We normalize numerical features :\n",
    "\n",
    "X_train[X_train_num.columns] = mean_norm(X_train[X_train_num.columns])\n",
    "X_test[X_train_num.columns] = mean_norm(X_test[X_train_num.columns])"
   ]
  },
  {
   "cell_type": "code",
   "execution_count": 51,
   "metadata": {},
   "outputs": [],
   "source": [
    "# Now we have a cleaned dataset and we can apply several classification models.\n",
    "# NB : we have to say 'classification' as we want to predict CATEGORICAL values (label).\n",
    "# 'Regression' is for numerical values (quantity).\n",
    "# For each model we will compute the accuracy to find the best one.\n",
    "# To do that we create a list to store the accuracies\n",
    "ListAcc = []"
   ]
  },
  {
   "cell_type": "markdown",
   "metadata": {},
   "source": [
    "Logistic Regression (It is a classification but this tool is called Logistic Regression)"
   ]
  },
  {
   "cell_type": "code",
   "execution_count": 52,
   "metadata": {},
   "outputs": [
    {
     "name": "stderr",
     "output_type": "stream",
     "text": [
      "C:\\Users\\albon\\anaconda3\\lib\\site-packages\\sklearn\\linear_model\\_logistic.py:762: ConvergenceWarning: lbfgs failed to converge (status=1):\n",
      "STOP: TOTAL NO. of ITERATIONS REACHED LIMIT.\n",
      "\n",
      "Increase the number of iterations (max_iter) or scale the data as shown in:\n",
      "    https://scikit-learn.org/stable/modules/preprocessing.html\n",
      "Please also refer to the documentation for alternative solver options:\n",
      "    https://scikit-learn.org/stable/modules/linear_model.html#logistic-regression\n",
      "  n_iter_i = _check_optimize_result(\n"
     ]
    },
    {
     "data": {
      "text/plain": [
       "LogisticRegression()"
      ]
     },
     "execution_count": 52,
     "metadata": {},
     "output_type": "execute_result"
    }
   ],
   "source": [
    "# Logistic Regression\n",
    "\n",
    "from sklearn.linear_model import LogisticRegression\n",
    "\n",
    "classifier1 = LogisticRegression()\n",
    "classifier1.fit(X_train, y_train)"
   ]
  },
  {
   "cell_type": "code",
   "execution_count": 53,
   "metadata": {},
   "outputs": [],
   "source": [
    "RegPred1 = classifier1.predict(X_test)"
   ]
  },
  {
   "cell_type": "code",
   "execution_count": 54,
   "metadata": {},
   "outputs": [],
   "source": [
    "from sklearn.metrics import accuracy_score, classification_report, confusion_matrix\n",
    "from sklearn import preprocessing"
   ]
  },
  {
   "cell_type": "code",
   "execution_count": 55,
   "metadata": {},
   "outputs": [
    {
     "name": "stdout",
     "output_type": "stream",
     "text": [
      "[[561  25  10   0  23   0   4]\n",
      " [383 116  43   5  47   0  30]\n",
      " [189 133  75  25 124   0  77]\n",
      " [ 78 121  58  81 139   1 146]\n",
      " [ 32  42  64  79 142  17 246]\n",
      " [ 18  22  29  56 131  39 327]\n",
      " [ 13   6   6  45 114  44 396]]\n",
      "              precision    recall  f1-score   support\n",
      "\n",
      "           A       0.44      0.90      0.59       623\n",
      "           B       0.25      0.19      0.21       624\n",
      "           C       0.26      0.12      0.17       623\n",
      "           D       0.28      0.13      0.18       624\n",
      "           E       0.20      0.23      0.21       622\n",
      "           F       0.39      0.06      0.11       622\n",
      "           G       0.32      0.63      0.43       624\n",
      "\n",
      "    accuracy                           0.32      4362\n",
      "   macro avg       0.31      0.32      0.27      4362\n",
      "weighted avg       0.31      0.32      0.27      4362\n",
      "\n",
      "0.32324621733149933\n"
     ]
    }
   ],
   "source": [
    "# Results for Logistic Regression :\n",
    "\n",
    "cf_matrix1 = confusion_matrix(y_test, RegPred1, labels = [\"A\", \"B\", \"C\", \"D\", \"E\", \"F\", \"G\"]) # Confusion Matrix Calculus\n",
    "ClassReport1 = classification_report(y_test, RegPred1)\n",
    "acc1 = accuracy_score(y_test, RegPred1)\n",
    "\n",
    "ListAcc.append(acc1)\n",
    "\n",
    "print(cf_matrix1)\n",
    "print(ClassReport1)\n",
    "print(acc1)"
   ]
  },
  {
   "cell_type": "code",
   "execution_count": 56,
   "metadata": {},
   "outputs": [
    {
     "data": {
      "image/png": "[encoded data removed]",
      "text/plain": [
       "<Figure size 432x288 with 2 Axes>"
      ]
     },
     "metadata": {
      "needs_background": "light"
     },
     "output_type": "display_data"
    }
   ],
   "source": [
    "# To plot the confusion matrix :\n",
    "\n",
    "ax = sns.heatmap(cf_matrix1, annot = True, cmap = \"Blues\")\n",
    "\n",
    "ax.set_title('Logistic Regression\\n')\n",
    "ax.set_xlabel('\\nPredicted Values')\n",
    "ax.set_ylabel('Actual Values')\n",
    "\n",
    "ax.xaxis.set_ticklabels([\"A\", \"B\", \"C\", \"D\", \"E\", \"F\", \"G\"])\n",
    "ax.yaxis.set_ticklabels([\"A\", \"B\", \"C\", \"D\", \"E\", \"F\", \"G\"])\n",
    "\n",
    "plt.show()"
   ]
  },
  {
   "cell_type": "markdown",
   "metadata": {},
   "source": [
    "KNN Classification"
   ]
  },
  {
   "cell_type": "code",
   "execution_count": 58,
   "metadata": {},
   "outputs": [
    {
     "name": "stdout",
     "output_type": "stream",
     "text": [
      "Hyperparameters: {'n_neighbors': 6, 'p': 1, 'weights': 'distance'}\n",
      "Train Score: 0.352\n"
     ]
    }
   ],
   "source": [
    "# To do KNN Classification we need to find the best parameters\n",
    "# We tun hyperparameters with GridSearch (for n_neighbors, p and weights)\n",
    "# It is a bit long to run (approx 3 min)\n",
    "\n",
    "from sklearn.neighbors import KNeighborsClassifier\n",
    "from sklearn.model_selection import GridSearchCV\n",
    "\n",
    "# Define parameters to test\n",
    "grid = {'n_neighbors':np.arange(1,7),\n",
    "        'p':np.arange(1,3),\n",
    "        'weights':['uniform','distance']\n",
    "       }\n",
    "\n",
    "# Define and fit model\n",
    "knn = KNeighborsClassifier()\n",
    "knn_cv = GridSearchCV(knn, grid, cv=10)\n",
    "\n",
    "knn_cv.fit(X_train, y_train)\n",
    "\n",
    "nb = knn_cv.best_params_['n_neighbors']\n",
    "p = knn_cv.best_params_['p']\n",
    "w = knn_cv.best_params_['weights']\n",
    "\n",
    "# Print results\n",
    "print(\"Hyperparameters:\", knn_cv.best_params_)\n",
    "print(\"Train Score:\", round(knn_cv.best_score_, 4))"
   ]
  },
  {
   "cell_type": "code",
   "execution_count": 59,
   "metadata": {},
   "outputs": [
    {
     "data": {
      "text/plain": [
       "KNeighborsClassifier(n_neighbors=6, p=1, weights='distance')"
      ]
     },
     "execution_count": 59,
     "metadata": {},
     "output_type": "execute_result"
    }
   ],
   "source": [
    "# We do the KNN Classification with the best parameters :\n",
    "\n",
    "classifier2 = KNeighborsClassifier(n_neighbors=nb, p = p, weights = w)\n",
    "classifier2.fit(X_train, y_train)"
   ]
  },
  {
   "cell_type": "code",
   "execution_count": 60,
   "metadata": {},
   "outputs": [],
   "source": [
    "RegPred2 = classifier2.predict(X_test)"
   ]
  },
  {
   "cell_type": "code",
   "execution_count": 61,
   "metadata": {},
   "outputs": [
    {
     "name": "stdout",
     "output_type": "stream",
     "text": [
      "[[379 133  49  29  12  18   3]\n",
      " [154 239 102  58  33  32   6]\n",
      " [ 70 149 191 114  54  34  11]\n",
      " [ 47 100 125 158  99  58  37]\n",
      " [ 29  53  97 103 148 116  76]\n",
      " [ 20  31  53  59 102 205 152]\n",
      " [ 19  27  37  52  95 165 229]]\n",
      "              precision    recall  f1-score   support\n",
      "\n",
      "           A       0.53      0.61      0.57       623\n",
      "           B       0.33      0.38      0.35       624\n",
      "           C       0.29      0.31      0.30       623\n",
      "           D       0.28      0.25      0.26       624\n",
      "           E       0.27      0.24      0.25       622\n",
      "           F       0.33      0.33      0.33       622\n",
      "           G       0.45      0.37      0.40       624\n",
      "\n",
      "    accuracy                           0.36      4362\n",
      "   macro avg       0.35      0.36      0.35      4362\n",
      "weighted avg       0.35      0.36      0.35      4362\n",
      "\n",
      "0.3551123337918386\n"
     ]
    }
   ],
   "source": [
    "# Results for KNN Classification :\n",
    "\n",
    "cf_matrix2 = confusion_matrix(y_test, RegPred2, labels = [\"A\", \"B\", \"C\", \"D\", \"E\", \"F\", \"G\"]) # Confusion Matrix Calculus\n",
    "ClassReport2 = classification_report(y_test, RegPred2)\n",
    "acc2 = accuracy_score(y_test, RegPred2)\n",
    "\n",
    "ListAcc.append(acc2)\n",
    "\n",
    "print(cf_matrix2)\n",
    "print(ClassReport2)\n",
    "print(acc2)"
   ]
  },
  {
   "cell_type": "code",
   "execution_count": 62,
   "metadata": {},
   "outputs": [
    {
     "data": {
      "image/png": "[encoded data removed]",
      "text/plain": [
       "<Figure size 432x288 with 2 Axes>"
      ]
     },
     "metadata": {
      "needs_background": "light"
     },
     "output_type": "display_data"
    }
   ],
   "source": [
    "# To plot the confusion matrix :\n",
    "\n",
    "ax = sns.heatmap(cf_matrix2, annot = True, cmap = \"Blues\")\n",
    "\n",
    "ax.set_title('KNN Classification\\n')\n",
    "ax.set_xlabel('\\nPredicted Values')\n",
    "ax.set_ylabel('Actual Values')\n",
    "\n",
    "ax.xaxis.set_ticklabels([\"A\", \"B\", \"C\", \"D\", \"E\", \"F\", \"G\"])\n",
    "ax.yaxis.set_ticklabels([\"A\", \"B\", \"C\", \"D\", \"E\", \"F\", \"G\"])\n",
    "\n",
    "plt.show()"
   ]
  },
  {
   "cell_type": "markdown",
   "metadata": {},
   "source": [
    "Decision Tree Classification"
   ]
  },
  {
   "cell_type": "code",
   "execution_count": 63,
   "metadata": {},
   "outputs": [
    {
     "name": "stdout",
     "output_type": "stream",
     "text": [
      "Hyperparameters: {'max_depth': 9}\n",
      "Train Score: 0.9864\n"
     ]
    }
   ],
   "source": [
    "# To do Decision Tree Classification we also need to find the best parameter\n",
    "# We tun hyperparameters with GridSearch (for depth)\n",
    "\n",
    "from sklearn.tree import DecisionTreeClassifier\n",
    "from sklearn.model_selection import GridSearchCV\n",
    "\n",
    "# Define parameter to test\n",
    "grid = {'max_depth':np.arange(1,10)}\n",
    "\n",
    "# Define and fit model\n",
    "\n",
    "tree = DecisionTreeClassifier()\n",
    "tree_cv = GridSearchCV(tree, grid, cv=5)\n",
    "\n",
    "tree_cv.fit(X_train, y_train)\n",
    "\n",
    "d = tree_cv.best_params_\n",
    "\n",
    "# Print results\n",
    "print(\"Hyperparameters:\", tree_cv.best_params_)\n",
    "print(\"Train Score:\", round(tree_cv.best_score_, 4))"
   ]
  },
  {
   "cell_type": "code",
   "execution_count": 64,
   "metadata": {},
   "outputs": [
    {
     "data": {
      "text/plain": [
       "DecisionTreeClassifier(max_depth=9, random_state=72)"
      ]
     },
     "execution_count": 64,
     "metadata": {},
     "output_type": "execute_result"
    }
   ],
   "source": [
    "# We do the Decision Tree Classification with the best depth :\n",
    "\n",
    "classifier3 = DecisionTreeClassifier(max_depth=9, random_state=72) #best parameter we found\n",
    "classifier3.fit(X_train, y_train)"
   ]
  },
  {
   "cell_type": "code",
   "execution_count": 65,
   "metadata": {},
   "outputs": [],
   "source": [
    "RegPred3 = classifier3.predict(X_test)"
   ]
  },
  {
   "cell_type": "code",
   "execution_count": 66,
   "metadata": {},
   "outputs": [
    {
     "name": "stdout",
     "output_type": "stream",
     "text": [
      "[[611   9   0   1   2   0   0]\n",
      " [  0 613  11   0   0   0   0]\n",
      " [  1  20 600   2   0   0   0]\n",
      " [  0   0   6 603  15   0   0]\n",
      " [  0   0   0  10 610   2   0]\n",
      " [  0   0   0   0  10 607   5]\n",
      " [  0   0   0   0   1   5 618]]\n",
      "              precision    recall  f1-score   support\n",
      "\n",
      "           A       1.00      0.98      0.99       623\n",
      "           B       0.95      0.98      0.97       624\n",
      "           C       0.97      0.96      0.97       623\n",
      "           D       0.98      0.97      0.97       624\n",
      "           E       0.96      0.98      0.97       622\n",
      "           F       0.99      0.98      0.98       622\n",
      "           G       0.99      0.99      0.99       624\n",
      "\n",
      "    accuracy                           0.98      4362\n",
      "   macro avg       0.98      0.98      0.98      4362\n",
      "weighted avg       0.98      0.98      0.98      4362\n",
      "\n",
      "0.9770747363594682\n"
     ]
    }
   ],
   "source": [
    "# Results for Decision Tree Classification :\n",
    "\n",
    "cf_matrix3 = confusion_matrix(y_test, RegPred3, labels = [\"A\", \"B\", \"C\", \"D\", \"E\", \"F\", \"G\"]) # Confusion Matrix Calculus\n",
    "ClassReport3 = classification_report(y_test, RegPred3)\n",
    "acc3 = accuracy_score(y_test, RegPred3)\n",
    "\n",
    "ListAcc.append(acc3)\n",
    "\n",
    "print(cf_matrix3)\n",
    "print(ClassReport3)\n",
    "print(acc3)"
   ]
  },
  {
   "cell_type": "code",
   "execution_count": 67,
   "metadata": {},
   "outputs": [
    {
     "data": {
      "image/png": "[encoded data removed]",
      "text/plain": [
       "<Figure size 432x288 with 2 Axes>"
      ]
     },
     "metadata": {
      "needs_background": "light"
     },
     "output_type": "display_data"
    }
   ],
   "source": [
    "# To plot the confusion matrix :\n",
    "\n",
    "ax = sns.heatmap(cf_matrix3, annot = True, cmap = \"Blues\")\n",
    "\n",
    "ax.set_title('Decision Tree Classification\\n')\n",
    "ax.set_xlabel('\\nPredicted Values')\n",
    "ax.set_ylabel('Actual Values')\n",
    "\n",
    "ax.xaxis.set_ticklabels([\"A\", \"B\", \"C\", \"D\", \"E\", \"F\", \"G\"])\n",
    "ax.yaxis.set_ticklabels([\"A\", \"B\", \"C\", \"D\", \"E\", \"F\", \"G\"])\n",
    "\n",
    "plt.show()"
   ]
  },
  {
   "cell_type": "markdown",
   "metadata": {},
   "source": [
    "Random Forest Classification"
   ]
  },
  {
   "cell_type": "code",
   "execution_count": 68,
   "metadata": {},
   "outputs": [
    {
     "data": {
      "text/plain": [
       "RandomForestClassifier()"
      ]
     },
     "execution_count": 68,
     "metadata": {},
     "output_type": "execute_result"
    }
   ],
   "source": [
    "# We do the Random Forest Classification :\n",
    "\n",
    "from sklearn.ensemble import RandomForestClassifier\n",
    "\n",
    "classifier4 = RandomForestClassifier(n_estimators=100)\n",
    "classifier4.fit(X_train, y_train)"
   ]
  },
  {
   "cell_type": "code",
   "execution_count": 69,
   "metadata": {},
   "outputs": [],
   "source": [
    "RegPred4 = classifier4.predict(X_test)"
   ]
  },
  {
   "cell_type": "code",
   "execution_count": 70,
   "metadata": {},
   "outputs": [
    {
     "name": "stdout",
     "output_type": "stream",
     "text": [
      "[[616   7   0   0   0   0   0]\n",
      " [  5 571  48   0   0   0   0]\n",
      " [  1  34 546  42   0   0   0]\n",
      " [  0   2  24 551  47   0   0]\n",
      " [  0   0   1  42 552  25   2]\n",
      " [  0   0   0   4  34 566  18]\n",
      " [  0   0   0   3   8  19 594]]\n",
      "              precision    recall  f1-score   support\n",
      "\n",
      "           A       0.99      0.99      0.99       623\n",
      "           B       0.93      0.92      0.92       624\n",
      "           C       0.88      0.88      0.88       623\n",
      "           D       0.86      0.88      0.87       624\n",
      "           E       0.86      0.89      0.87       622\n",
      "           F       0.93      0.91      0.92       622\n",
      "           G       0.97      0.95      0.96       624\n",
      "\n",
      "    accuracy                           0.92      4362\n",
      "   macro avg       0.92      0.92      0.92      4362\n",
      "weighted avg       0.92      0.92      0.92      4362\n",
      "\n",
      "0.9160935350756534\n"
     ]
    }
   ],
   "source": [
    "# Results for Random Forest Classification :\n",
    "\n",
    "cf_matrix4 = confusion_matrix(y_test, RegPred4, labels = [\"A\", \"B\", \"C\", \"D\", \"E\", \"F\", \"G\"]) # Confusion Matrix Calculus\n",
    "ClassReport4 = classification_report(y_test, RegPred4)\n",
    "acc4 = accuracy_score(y_test, RegPred4)\n",
    "\n",
    "ListAcc.append(acc4)\n",
    "\n",
    "print(cf_matrix4)\n",
    "print(ClassReport4)\n",
    "print(acc4)"
   ]
  },
  {
   "cell_type": "code",
   "execution_count": 71,
   "metadata": {},
   "outputs": [
    {
     "data": {
      "image/png": "[encoded data removed]",
      "text/plain": [
       "<Figure size 432x288 with 2 Axes>"
      ]
     },
     "metadata": {
      "needs_background": "light"
     },
     "output_type": "display_data"
    }
   ],
   "source": [
    "# To plot the confusion matrix :\n",
    "\n",
    "ax = sns.heatmap(cf_matrix4, annot = True, cmap = \"Blues\")\n",
    "\n",
    "ax.set_title('Random Forest Classification\\n')\n",
    "ax.set_xlabel('\\nPredicted Values')\n",
    "ax.set_ylabel('Actual Values')\n",
    "\n",
    "ax.xaxis.set_ticklabels([\"A\", \"B\", \"C\", \"D\", \"E\", \"F\", \"G\"])\n",
    "ax.yaxis.set_ticklabels([\"A\", \"B\", \"C\", \"D\", \"E\", \"F\", \"G\"])\n",
    "\n",
    "plt.show()"
   ]
  },
  {
   "cell_type": "code",
   "execution_count": 72,
   "metadata": {},
   "outputs": [
    {
     "data": {
      "image/png": "[encoded data removed]",
      "text/plain": [
       "<Figure size 432x288 with 1 Axes>"
      ]
     },
     "metadata": {
      "needs_background": "light"
     },
     "output_type": "display_data"
    }
   ],
   "source": [
    "# Let's compare our previous results\n",
    "\n",
    "# We plot the list of accuracies and we put a name for each point :\n",
    "labels = ['Logistic', 'KNN', 'DecTree', 'RandForest']\n",
    "\n",
    "x = [i for i in range(1,5)]\n",
    "plt.title('Accuracy')\n",
    "plt.plot(x, ListAcc)\n",
    "plt.xticks(x, labels, rotation = 45)\n",
    "\n",
    "plt.show()"
   ]
  },
  {
   "cell_type": "markdown",
   "metadata": {},
   "source": [
    "We can observe that Decision Tree and Random Forest are way more efficient. Logistic and KNN are almost equal."
   ]
  }
 ],
 "metadata": {
  "kernelspec": {
   "display_name": "Python 3",
   "language": "python",
   "name": "python3"
  },
  "language_info": {
   "codemirror_mode": {
    "name": "ipython",
    "version": 3
   },
   "file_extension": ".py",
   "mimetype": "text/x-python",
   "name": "python",
   "nbconvert_exporter": "python",
   "pygments_lexer": "ipython3",
   "version": "3.8.3"
  }
 },
 "nbformat": 4,
 "nbformat_minor": 4
}
